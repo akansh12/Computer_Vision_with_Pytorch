{
 "cells": [
  {
   "cell_type": "markdown",
   "metadata": {},
   "source": [
    "#### Feed Forward Network"
   ]
  },
  {
   "cell_type": "code",
   "execution_count": 27,
   "metadata": {},
   "outputs": [],
   "source": [
    "import numpy as np\n",
    "from copy import deepcopy"
   ]
  },
  {
   "cell_type": "code",
   "execution_count": 23,
   "metadata": {},
   "outputs": [],
   "source": [
    "def feed_forward(inputs, outputs, weights):\n",
    "    pre_hidden = inputs@weights[0] + weights[1]\n",
    "    hidden = 1/(1+np.exp(-1*pre_hidden))\n",
    "    pred_out = hidden@weights[2] + weights[3]\n",
    "    mean_squared_error = np.mean(np.square(pred_out-outputs))\n",
    "    \n",
    "    return mean_squared_error"
   ]
  },
  {
   "cell_type": "code",
   "execution_count": 26,
   "metadata": {},
   "outputs": [],
   "source": [
    "#activation function in  code\n",
    "def tanh(x):\n",
    "    return (np.exp(x) - np.exp(-x))/(np.exp(x) + np.exp(-x))\n",
    "\n",
    "def relu(x):\n",
    "    return np.where(x>0, x, 0)\n",
    "\n",
    "def linear(x):\n",
    "    return x\n",
    "\n",
    "def softmax(x):\n",
    "    return np.exp(x)/np.sum(np.exp(x))\n",
    "\n",
    "#loss function in code\n",
    "#MSE\n",
    "def mse(x,y):\n",
    "    return np.mean(np.square(x-y))\n",
    "\n",
    "def mae(x,y):\n",
    "    return np.mean(np.abs(x-y))\n",
    "\n",
    "def bce(p,y):\n",
    "    return -np.mean(np.sum((y*np.log(p) + (1-y)* np.log(1-p))))\n",
    "\n",
    "def categoical_cross_entropy(p,y):\n",
    "    return -np.mean(np.sum(y*np.log(p)))\n",
    "\n",
    "\n"
   ]
  },
  {
   "cell_type": "code",
   "execution_count": null,
   "metadata": {},
   "outputs": [],
   "source": []
  },
  {
   "cell_type": "code",
   "execution_count": 76,
   "metadata": {},
   "outputs": [],
   "source": [
    "def update_weights(inputs,outputs, weights, lr):\n",
    "    original_weights = deepcopy(weights)\n",
    "    temp_weights = deepcopy(weights)\n",
    "    updated_weights = deepcopy(weights)\n",
    "    original_loss = feed_forward(inputs, outputs, original_weights)\n",
    "    for i, layers in enumerate(original_weights):\n",
    "        for index, weight in np.ndenumerate(layers):\n",
    "            temp_weights = deepcopy(weights)\n",
    "            temp_weights[i][index] += 0.0001\n",
    "            _loss_plus = feed_forward(inputs, outputs, temp_weights)\n",
    "            grad = (_loss_plus - original_loss)/0.0001\n",
    "            \n",
    "            updated_weights[i][index] -= grad*lr\n",
    "            \n",
    "    return updated_weights, original_loss    "
   ]
  },
  {
   "cell_type": "code",
   "execution_count": 77,
   "metadata": {},
   "outputs": [],
   "source": [
    "x = np.array([[1,1]])\n",
    "y = np.array([[0]])"
   ]
  },
  {
   "cell_type": "code",
   "execution_count": 78,
   "metadata": {},
   "outputs": [],
   "source": [
    "W = [\n",
    "np.array([[-0.0053, 0.3793],\n",
    "[-0.5820, -0.5204],\n",
    "[-0.2723, 0.1896]], dtype=np.float32).T,\n",
    "np.array([-0.0140, 0.5607, -0.0628], dtype=np.float32),\n",
    "np.array([[ 0.1528,-0.1745,-0.1135]],dtype=np.float32).T,\n",
    "np.array([-0.5516], dtype=np.float32)\n",
    "]"
   ]
  },
  {
   "cell_type": "code",
   "execution_count": 79,
   "metadata": {},
   "outputs": [],
   "source": [
    "losses = []\n",
    "for epoch in range(100):\n",
    "    W, loss = update_weights(x, y ,W, 0.01)\n",
    "    losses.append(loss)"
   ]
  },
  {
   "cell_type": "code",
   "execution_count": 80,
   "metadata": {},
   "outputs": [
    {
     "data": {
      "text/plain": [
       "0.0003054840680033747"
      ]
     },
     "execution_count": 80,
     "metadata": {},
     "output_type": "execute_result"
    }
   ],
   "source": [
    "feed_forward(x,y,W)"
   ]
  },
  {
   "cell_type": "code",
   "execution_count": 82,
   "metadata": {},
   "outputs": [
    {
     "data": {
      "text/plain": [
       "Text(0, 0.5, 'Loss')"
      ]
     },
     "execution_count": 82,
     "metadata": {},
     "output_type": "execute_result"
    },
    {
     "data": {
      "image/png": "[encoded data removed]",
      "text/plain": [
       "<Figure size 432x288 with 1 Axes>"
      ]
     },
     "metadata": {
      "needs_background": "light"
     },
     "output_type": "display_data"
    }
   ],
   "source": [
    "import matplotlib.pyplot as plt\n",
    "plt.plot(losses)\n",
    "plt.xlabel(\"#epochs\")\n",
    "plt.ylabel(\"Loss\")"
   ]
  },
  {
   "cell_type": "code",
   "execution_count": 83,
   "metadata": {},
   "outputs": [],
   "source": [
    "# Understanding the impact of the learning rate"
   ]
  },
  {
   "cell_type": "code",
   "execution_count": 84,
   "metadata": {},
   "outputs": [],
   "source": [
    "x = [[1],[2],[3],[4]]\n",
    "y = [[3],[6],[9],[12]]"
   ]
  },
  {
   "cell_type": "code",
   "execution_count": 93,
   "metadata": {},
   "outputs": [],
   "source": [
    "def feed_forward(inputs, outputs, weights):\n",
    "    pred_out = np.dot(inputs,weights[0])+ weights[1]\n",
    "    mean_squared_error = np.mean(np.square(pred_out \\\n",
    "    - outputs))\n",
    "    return mean_squared_error"
   ]
  },
  {
   "cell_type": "code",
   "execution_count": 94,
   "metadata": {},
   "outputs": [],
   "source": [
    "def update_weights(inputs, outputs, weights, lr):\n",
    "    original_weights = deepcopy(weights)\n",
    "    org_loss = feed_forward(inputs, outputs,original_weights)\n",
    "    updated_weights = deepcopy(weights)\n",
    "    for i, layer in enumerate(original_weights):\n",
    "        for index, weight in np.ndenumerate(layer):\n",
    "            temp_weights = deepcopy(weights)\n",
    "            temp_weights[i][index] += 0.0001\n",
    "            _loss_plus = feed_forward(inputs, outputs, \\\n",
    "            temp_weights)\n",
    "            grad = (_loss_plus - org_loss)/(0.0001)\n",
    "            updated_weights[i][index] -= grad*lr\n",
    "    return updated_weights"
   ]
  },
  {
   "cell_type": "code",
   "execution_count": 105,
   "metadata": {},
   "outputs": [
    {
     "data": {
      "text/plain": [
       "Text(0, 0.5, 'Weight value')"
      ]
     },
     "execution_count": 105,
     "metadata": {},
     "output_type": "execute_result"
    },
    {
     "data": {
      "image/png": "[encoded data removed]",
      "text/plain": [
       "<Figure size 432x288 with 1 Axes>"
      ]
     },
     "metadata": {
      "needs_background": "light"
     },
     "output_type": "display_data"
    }
   ],
   "source": [
    "W = [np.array([[0]], dtype=np.float32),\n",
    "np.array([[0]], dtype=np.float32)]\n",
    "\n",
    "weight_value = []\n",
    "for epx in range(1000):\n",
    "    W = update_weights(x,y,W,0.01)\n",
    "    weight_value.append(W[0][0][0])\n",
    "\n",
    "import matplotlib.pyplot as plt\n",
    "%matplotlib inline\n",
    "epochs = range(1, 1001)\n",
    "plt.plot(epochs,weight_value)\n",
    "plt.title('Weight value over increasing \\\n",
    "epochs when learning rate is 0.01')\n",
    "plt.xlabel('Epochs')\n",
    "plt.ylabel('Weight value')"
   ]
  },
  {
   "cell_type": "code",
   "execution_count": 106,
   "metadata": {},
   "outputs": [
    {
     "data": {
      "text/plain": [
       "0.00035448306778208816"
      ]
     },
     "execution_count": 106,
     "metadata": {},
     "output_type": "execute_result"
    }
   ],
   "source": [
    "feed_forward(x,y,W)"
   ]
  },
  {
   "cell_type": "code",
   "execution_count": 109,
   "metadata": {},
   "outputs": [
    {
     "data": {
      "text/plain": [
       "Text(0, 0.5, 'Weight value')"
      ]
     },
     "execution_count": 109,
     "metadata": {},
     "output_type": "execute_result"
    },
    {
     "data": {
      "image/png": "[encoded data removed]",
      "text/plain": [
       "<Figure size 432x288 with 1 Axes>"
      ]
     },
     "metadata": {
      "needs_background": "light"
     },
     "output_type": "display_data"
    }
   ],
   "source": [
    "W = [np.array([[0]], dtype=np.float32),\n",
    "np.array([[0]], dtype=np.float32)]\n",
    "\n",
    "weight_value = []\n",
    "for epx in range(1000):\n",
    "    W = update_weights(x,y,W,0.1)\n",
    "    weight_value.append(W[0][0][0])\n",
    "\n",
    "import matplotlib.pyplot as plt\n",
    "%matplotlib inline\n",
    "epochs = range(1, 1001)\n",
    "plt.plot(epochs,weight_value)\n",
    "plt.title('Weight value over increasing \\\n",
    "epochs when learning rate is 0.1')\n",
    "plt.xlabel('Epochs')\n",
    "plt.ylabel('Weight value')"
   ]
  },
  {
   "cell_type": "code",
   "execution_count": 110,
   "metadata": {},
   "outputs": [
    {
     "data": {
      "text/plain": [
       "Text(0, 0.5, 'Weight value')"
      ]
     },
     "execution_count": 110,
     "metadata": {},
     "output_type": "execute_result"
    },
    {
     "data": {
      "image/png": "[encoded data removed]",
      "text/plain": [
       "<Figure size 432x288 with 1 Axes>"
      ]
     },
     "metadata": {
      "needs_background": "light"
     },
     "output_type": "display_data"
    }
   ],
   "source": [
    "W = [np.array([[0]], dtype=np.float32),\n",
    "np.array([[0]], dtype=np.float32)]\n",
    "\n",
    "weight_value = []\n",
    "for epx in range(1000):\n",
    "    W = update_weights(x,y,W,1)\n",
    "    weight_value.append(W[0][0][0])\n",
    "\n",
    "import matplotlib.pyplot as plt\n",
    "%matplotlib inline\n",
    "epochs = range(1, 1001)\n",
    "plt.plot(epochs,weight_value)\n",
    "plt.title('Weight value over increasing \\\n",
    "epochs when learning rate is 1')\n",
    "plt.xlabel('Epochs')\n",
    "plt.ylabel('Weight value')"
   ]
  },
  {
   "cell_type": "code",
   "execution_count": null,
   "metadata": {},
   "outputs": [],
   "source": []
  },
  {
   "cell_type": "code",
   "execution_count": null,
   "metadata": {},
   "outputs": [],
   "source": []
  },
  {
   "cell_type": "code",
   "execution_count": null,
   "metadata": {},
   "outputs": [],
   "source": []
  }
 ],
 "metadata": {
  "kernelspec": {
   "display_name": "Python 3",
   "language": "python",
   "name": "python3"
  },
  "language_info": {
   "codemirror_mode": {
    "name": "ipython",
    "version": 3
   },
   "file_extension": ".py",
   "mimetype": "text/x-python",
   "name": "python",
   "nbconvert_exporter": "python",
   "pygments_lexer": "ipython3",
   "version": "3.7.3"
  }
 },
 "nbformat": 4,
 "nbformat_minor": 2
}
